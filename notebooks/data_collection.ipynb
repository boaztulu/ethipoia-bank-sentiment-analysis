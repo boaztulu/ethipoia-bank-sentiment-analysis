{
 "cells": [
  {
   "cell_type": "code",
   "execution_count": 1,
   "id": "8f1b2bc2",
   "metadata": {},
   "outputs": [],
   "source": [
    "from rich.console import Console\n",
    "from rich.table import Table\n",
    "\n",
    "from scripts.scraper import PlayStoreScraper\n",
    "from scripts.preprocessor import ReviewPreprocessor\n",
    "\n",
    "console = Console()\n",
    "\n",
    "BANK_PACKAGES = {\n",
    "    \"CBE\":    \"com.combanketh.mobilebanking\",\n",
    "    \"BOA\":    \"com.boa.boaMobileBanking\",\n",
    "    \"Dashen\": \"com.dashen.dashensuperapp\",\n",
    "}"
   ]
  },
  {
   "cell_type": "code",
   "execution_count": 2,
   "id": "3f35d30d",
   "metadata": {},
   "outputs": [
    {
     "data": {
      "text/html": [
       "<pre style=\"white-space:pre;overflow-x:auto;line-height:normal;font-family:Menlo,'DejaVu Sans Mono',consolas,'Courier New',monospace\"><span style=\"color: #00ff00; text-decoration-color: #00ff00\">──────────────────────────────────────────── </span><span style=\"color: #000080; text-decoration-color: #000080; font-weight: bold\">ETH‑Bank Review Pipeline</span><span style=\"color: #00ff00; text-decoration-color: #00ff00\"> ─────────────────────────────────────────────</span>\n",
       "</pre>\n"
      ],
      "text/plain": [
       "\u001b[92m──────────────────────────────────────────── \u001b[0m\u001b[1;34mETH‑Bank Review Pipeline\u001b[0m\u001b[92m ─────────────────────────────────────────────\u001b[0m\n"
      ]
     },
     "metadata": {},
     "output_type": "display_data"
    },
    {
     "name": "stderr",
     "output_type": "stream",
     "text": [
      "Scraping banks: 100%|██████████████████████████████████████████████████████████████████| 3/3 [00:01<00:00,  2.71bank/s]\n"
     ]
    },
    {
     "data": {
      "text/html": [
       "<pre style=\"white-space:pre;overflow-x:auto;line-height:normal;font-family:Menlo,'DejaVu Sans Mono',consolas,'Courier New',monospace\"><span style=\"color: #7fbfbf; text-decoration-color: #7fbfbf\">[16:10:20] </span>✅ Scraped <span style=\"color: #008080; text-decoration-color: #008080; font-weight: bold\">1</span>,<span style=\"color: #008080; text-decoration-color: #008080; font-weight: bold\">200</span> reviews → data/reviews_raw_20250608_161020.csv                          <a href=\"file://C:\\Users\\btulu\\AppData\\Local\\Temp\\ipykernel_26792\\1542593374.py\" target=\"_blank\"><span style=\"color: #7f7f7f; text-decoration-color: #7f7f7f\">1542593374.py</span></a><span style=\"color: #7f7f7f; text-decoration-color: #7f7f7f\">:</span><a href=\"file://C:\\Users\\btulu\\AppData\\Local\\Temp\\ipykernel_26792\\1542593374.py#8\" target=\"_blank\"><span style=\"color: #7f7f7f; text-decoration-color: #7f7f7f\">8</span></a>\n",
       "</pre>\n"
      ],
      "text/plain": [
       "\u001b[2;36m[16:10:20]\u001b[0m\u001b[2;36m \u001b[0m✅ Scraped \u001b[1;36m1\u001b[0m,\u001b[1;36m200\u001b[0m reviews → data/reviews_raw_20250608_161020.csv                          \u001b]8;id=63785;file://C:\\Users\\btulu\\AppData\\Local\\Temp\\ipykernel_26792\\1542593374.py\u001b\\\u001b[2m1542593374.py\u001b[0m\u001b]8;;\u001b\\\u001b[2m:\u001b[0m\u001b]8;id=53338;file://C:\\Users\\btulu\\AppData\\Local\\Temp\\ipykernel_26792\\1542593374.py#8\u001b\\\u001b[2m8\u001b[0m\u001b]8;;\u001b\\\n"
      ]
     },
     "metadata": {},
     "output_type": "display_data"
    },
    {
     "data": {
      "text/html": [
       "<pre style=\"white-space:pre;overflow-x:auto;line-height:normal;font-family:Menlo,'DejaVu Sans Mono',consolas,'Courier New',monospace\"><span style=\"color: #7fbfbf; text-decoration-color: #7fbfbf\">           </span>✅ Preprocessed <span style=\"color: #008080; text-decoration-color: #008080; font-weight: bold\">1</span>,<span style=\"color: #008080; text-decoration-color: #008080; font-weight: bold\">189</span> reviews → data/reviews_preprocessed_20250608_161020.csv           <a href=\"file://C:\\Users\\btulu\\AppData\\Local\\Temp\\ipykernel_26792\\1542593374.py\" target=\"_blank\"><span style=\"color: #7f7f7f; text-decoration-color: #7f7f7f\">1542593374.py</span></a><span style=\"color: #7f7f7f; text-decoration-color: #7f7f7f\">:</span><a href=\"file://C:\\Users\\btulu\\AppData\\Local\\Temp\\ipykernel_26792\\1542593374.py#14\" target=\"_blank\"><span style=\"color: #7f7f7f; text-decoration-color: #7f7f7f\">14</span></a>\n",
       "</pre>\n"
      ],
      "text/plain": [
       "\u001b[2;36m          \u001b[0m\u001b[2;36m \u001b[0m✅ Preprocessed \u001b[1;36m1\u001b[0m,\u001b[1;36m189\u001b[0m reviews → data/reviews_preprocessed_20250608_161020.csv           \u001b]8;id=839314;file://C:\\Users\\btulu\\AppData\\Local\\Temp\\ipykernel_26792\\1542593374.py\u001b\\\u001b[2m1542593374.py\u001b[0m\u001b]8;;\u001b\\\u001b[2m:\u001b[0m\u001b]8;id=205356;file://C:\\Users\\btulu\\AppData\\Local\\Temp\\ipykernel_26792\\1542593374.py#14\u001b\\\u001b[2m14\u001b[0m\u001b]8;;\u001b\\\n"
      ]
     },
     "metadata": {},
     "output_type": "display_data"
    },
    {
     "data": {
      "text/html": [
       "<pre style=\"white-space:pre;overflow-x:auto;line-height:normal;font-family:Menlo,'DejaVu Sans Mono',consolas,'Courier New',monospace\"><span style=\"font-style: italic\">     Snapshot     </span>\n",
       "<span style=\"color: #800080; text-decoration-color: #800080; font-weight: bold\"> Bank   </span>┃<span style=\"color: #800080; text-decoration-color: #800080; font-weight: bold\"> Reviews </span>\n",
       "━━━━━━━━╇━━━━━━━━━\n",
       " BOA    │     399 \n",
       " CBE    │     391 \n",
       " Dashen │     399 \n",
       "</pre>\n"
      ],
      "text/plain": [
       "\u001b[3m     Snapshot     \u001b[0m\n",
       "\u001b[1;35m \u001b[0m\u001b[1;35mBank  \u001b[0m\u001b[1;35m \u001b[0m┃\u001b[1;35m \u001b[0m\u001b[1;35mReviews\u001b[0m\u001b[1;35m \u001b[0m\n",
       "━━━━━━━━╇━━━━━━━━━\n",
       " BOA    │     399 \n",
       " CBE    │     391 \n",
       " Dashen │     399 \n"
      ]
     },
     "metadata": {},
     "output_type": "display_data"
    },
    {
     "data": {
      "text/html": [
       "<pre style=\"white-space:pre;overflow-x:auto;line-height:normal;font-family:Menlo,'DejaVu Sans Mono',consolas,'Courier New',monospace\"><span style=\"color: #00ff00; text-decoration-color: #00ff00\">──────────────────────────────────────────────── </span><span style=\"color: #008000; text-decoration-color: #008000\">Pipeline complete</span><span style=\"color: #00ff00; text-decoration-color: #00ff00\"> ────────────────────────────────────────────────</span>\n",
       "</pre>\n"
      ],
      "text/plain": [
       "\u001b[92m──────────────────────────────────────────────── \u001b[0m\u001b[32mPipeline complete\u001b[0m\u001b[92m ────────────────────────────────────────────────\u001b[0m\n"
      ]
     },
     "metadata": {},
     "output_type": "display_data"
    }
   ],
   "source": [
    "def main():\n",
    "    console.rule(\"[bold blue]ETH‑Bank Review Pipeline\")\n",
    "\n",
    "    # 1️⃣  Scrape\n",
    "    scraper = PlayStoreScraper(BANK_PACKAGES, per_bank=400)\n",
    "    raw_df   = scraper.run()\n",
    "    raw_path = scraper.to_csv(raw_df)\n",
    "    console.log(f\"✅ Scraped {len(raw_df):,} reviews → {raw_path}\")\n",
    "\n",
    "    # 2️⃣  Pre‑process\n",
    "    prep         = ReviewPreprocessor()\n",
    "    clean_df     = prep.run(raw_df)\n",
    "    clean_path   = prep.to_csv(clean_df)\n",
    "    console.log(f\"✅ Preprocessed {len(clean_df):,} reviews → {clean_path}\")\n",
    "\n",
    "    # 3️⃣  Pretty summary\n",
    "    tbl = Table(title=\"Snapshot\", show_edge=False, header_style=\"bold magenta\")\n",
    "    tbl.add_column(\"Bank\")\n",
    "    tbl.add_column(\"Reviews\", justify=\"right\")\n",
    "    for bank, grp in clean_df.groupby(\"bank\"):\n",
    "        tbl.add_row(bank, f\"{len(grp):,}\")\n",
    "    console.print(tbl)\n",
    "\n",
    "    console.rule(\"[green]Pipeline complete\")\n",
    "\n",
    "if __name__ == \"__main__\":\n",
    "    main()"
   ]
  },
  {
   "cell_type": "code",
   "execution_count": null,
   "id": "b01af39b",
   "metadata": {},
   "outputs": [],
   "source": []
  }
 ],
 "metadata": {
  "kernelspec": {
   "display_name": "Python 3 (ipykernel)",
   "language": "python",
   "name": "python3"
  },
  "language_info": {
   "codemirror_mode": {
    "name": "ipython",
    "version": 3
   },
   "file_extension": ".py",
   "mimetype": "text/x-python",
   "name": "python",
   "nbconvert_exporter": "python",
   "pygments_lexer": "ipython3",
   "version": "3.9.18"
  }
 },
 "nbformat": 4,
 "nbformat_minor": 5
}
