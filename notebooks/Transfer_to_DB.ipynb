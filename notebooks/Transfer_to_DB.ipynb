{
 "cells": [
  {
   "cell_type": "code",
   "execution_count": 1,
   "id": "9916abae",
   "metadata": {},
   "outputs": [],
   "source": [
    "from pathlib import Path\n",
    "import pandas as pd\n",
    "from rich import print as rprint\n",
    "import sqlite3\n",
    "import sqlalchemy as sa\n",
    "from sqlalchemy import text"
   ]
  },
  {
   "cell_type": "code",
   "execution_count": 5,
   "id": "3437b557",
   "metadata": {},
   "outputs": [],
   "source": [
    "DATA_CSV   = Path(\"data/reviews_analyzed.csv\")\n",
    "DB_FILE    = Path(\"db/bank_reviews.db\")\n",
    "DB_FILE.parent.mkdir(exist_ok=True)   # make sure directory exists\n"
   ]
  },
  {
   "cell_type": "code",
   "execution_count": 6,
   "id": "44c22698",
   "metadata": {},
   "outputs": [
    {
     "data": {
      "text/html": [
       "<pre style=\"white-space:pre;overflow-x:auto;line-height:normal;font-family:Menlo,'DejaVu Sans Mono',consolas,'Courier New',monospace\"><span style=\"color: #008000; text-decoration-color: #008000\">Schema ensured in SQLite database.</span>\n",
       "</pre>\n"
      ],
      "text/plain": [
       "\u001b[32mSchema ensured in SQLite database.\u001b[0m\n"
      ]
     },
     "metadata": {},
     "output_type": "display_data"
    }
   ],
   "source": [
    "# SQLAlchemy connection string for SQLite\n",
    "engine = sa.create_engine(f\"sqlite:///{DB_FILE}\")\n",
    "\n",
    "# %% 🏗️  Build (or confirm) schema\n",
    "with engine.begin() as conn:\n",
    "    conn.exec_driver_sql(\"\"\"\n",
    "        CREATE TABLE IF NOT EXISTS banks (\n",
    "            bank_id   INTEGER PRIMARY KEY AUTOINCREMENT,\n",
    "            bank_name TEXT UNIQUE NOT NULL\n",
    "        );\n",
    "    \"\"\")\n",
    "    conn.exec_driver_sql(\"\"\"\n",
    "        CREATE TABLE IF NOT EXISTS reviews (\n",
    "            review_id       INTEGER PRIMARY KEY AUTOINCREMENT,\n",
    "            bank_id         INTEGER,\n",
    "            review_text     TEXT NOT NULL,\n",
    "            rating          INTEGER NOT NULL,\n",
    "            review_date     DATE   NOT NULL,\n",
    "            sentiment_label TEXT,\n",
    "            sentiment_score REAL,\n",
    "            theme           TEXT,\n",
    "            source          TEXT,\n",
    "            FOREIGN KEY (bank_id) REFERENCES banks(bank_id)\n",
    "        );\n",
    "    \"\"\")\n",
    "rprint(\"[green]Schema ensured in SQLite database.[/]\")\n"
   ]
  },
  {
   "cell_type": "code",
   "execution_count": 7,
   "id": "378ea1fd",
   "metadata": {},
   "outputs": [
    {
     "data": {
      "text/html": [
       "<pre style=\"white-space:pre;overflow-x:auto;line-height:normal;font-family:Menlo,'DejaVu Sans Mono',consolas,'Courier New',monospace\"><span style=\"color: #000080; text-decoration-color: #000080; font-weight: bold\">Loaded</span> <span style=\"color: #008080; text-decoration-color: #008080; font-weight: bold\">986</span> rows from CSV\n",
       "</pre>\n"
      ],
      "text/plain": [
       "\u001b[1;34mLoaded\u001b[0m \u001b[1;36m986\u001b[0m rows from CSV\n"
      ]
     },
     "metadata": {},
     "output_type": "display_data"
    }
   ],
   "source": [
    "# %% 📥  Load CSV\n",
    "df = pd.read_csv(DATA_CSV, parse_dates=[\"date\"])\n",
    "rprint(f\"[bold blue]Loaded[/] {len(df):,} rows from CSV\")\n",
    "\n",
    "# %% 🏦  Insert / upsert banks\n",
    "with engine.begin() as conn:\n",
    "    for bank in df[\"bank\"].unique():\n",
    "        conn.execute(text(\"\"\"\n",
    "            INSERT OR IGNORE INTO banks (bank_name) VALUES (:b)\n",
    "        \"\"\"), {\"b\": bank})\n",
    "\n",
    "# Fetch bank_id lookup\n",
    "bank_lookup = pd.read_sql(\"SELECT bank_id, bank_name FROM banks\", engine)\\\n",
    "               .set_index(\"bank_name\")[\"bank_id\"].to_dict()\n",
    "\n",
    "# %% 📤  Bulk‑insert reviews with pandas\n",
    "df_out = (\n",
    "    df.rename(columns={\n",
    "        \"review\": \"review_text\",\n",
    "        \"date\":   \"review_date\"\n",
    "    })\n",
    "    .assign(bank_id=lambda d: d[\"bank\"].map(bank_lookup))\n",
    "    .drop(columns=[\"bank\"])\n",
    ")\n"
   ]
  },
  {
   "cell_type": "code",
   "execution_count": null,
   "id": "5c522443",
   "metadata": {},
   "outputs": [],
   "source": []
  }
 ],
 "metadata": {
  "kernelspec": {
   "display_name": "Python 3 (ipykernel)",
   "language": "python",
   "name": "python3"
  },
  "language_info": {
   "codemirror_mode": {
    "name": "ipython",
    "version": 3
   },
   "file_extension": ".py",
   "mimetype": "text/x-python",
   "name": "python",
   "nbconvert_exporter": "python",
   "pygments_lexer": "ipython3",
   "version": "3.9.18"
  }
 },
 "nbformat": 4,
 "nbformat_minor": 5
}
